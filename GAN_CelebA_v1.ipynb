{
 "cells": [
  {
   "cell_type": "code",
   "execution_count": 1,
   "metadata": {
    "colab": {
     "base_uri": "https://localhost:8080/",
     "height": 34
    },
    "colab_type": "code",
    "id": "8xNFw8kKg23d",
    "outputId": "670a4581-ab48-49f1-b056-4d53209902eb"
   },
   "outputs": [
    {
     "name": "stderr",
     "output_type": "stream",
     "text": [
      "Using TensorFlow backend.\n"
     ]
    }
   ],
   "source": [
    "import numpy as np\n",
    "from tqdm import tqdm\n",
    "import matplotlib.pyplot as plt\n",
    "from IPython.display import SVG, display\n",
    "from keras.utils.vis_utils import model_to_dot\n",
    "import os\n",
    "import numpy as np\n",
    "os.environ[\"CUDA_VISIBLE_DEVICES\"]=\"1\"\n",
    "from keras.layers import Input\n",
    "from keras import layers, models\n",
    "from keras.models import Model, Sequential\n",
    "from keras.layers.core import Reshape, Dense, Dropout, Flatten\n",
    "from keras.layers.advanced_activations import LeakyReLU\n",
    "from keras.layers.convolutional import Conv2D, UpSampling2D\n",
    "from keras.datasets import mnist\n",
    "from keras.optimizers import *\n",
    "from keras import backend as K\n",
    "from keras.preprocessing.image import load_img\n",
    "from keras.preprocessing.image import img_to_array\n",
    "from keras import initializers\n",
    "from keras.callbacks import TensorBoard\n",
    "\n",
    "\n",
    "\n"
   ]
  },
  {
   "cell_type": "code",
   "execution_count": 4,
   "metadata": {},
   "outputs": [
    {
     "name": "stdout",
     "output_type": "stream",
     "text": [
      "/home/anaconda3/bin/python\r\n"
     ]
    }
   ],
   "source": [
    "# !which python"
   ]
  },
  {
   "cell_type": "code",
   "execution_count": 2,
   "metadata": {},
   "outputs": [],
   "source": [
    "tf_config = tf.ConfigProto(allow_soft_placement=False)\n",
    "tf_config.gpu_options.allow_growth = True\n",
    "s = tf.Session(config=tf_config)\n",
    "K.set_session(s)"
   ]
  },
  {
   "cell_type": "code",
   "execution_count": 3,
   "metadata": {},
   "outputs": [
    {
     "ename": "FileNotFoundError",
     "evalue": "[Errno 2] No such file or directory: 'img_align_celeba/'",
     "output_type": "error",
     "traceback": [
      "\u001b[0;31m---------------------------------------------------------------------------\u001b[0m",
      "\u001b[0;31mFileNotFoundError\u001b[0m                         Traceback (most recent call last)",
      "\u001b[0;32m<ipython-input-3-d0fa30f23154>\u001b[0m in \u001b[0;36m<module>\u001b[0;34m()\u001b[0m\n\u001b[1;32m      1\u001b[0m \u001b[0mfilePath\u001b[0m \u001b[0;34m=\u001b[0m \u001b[0;34m\"img_align_celeba/\"\u001b[0m\u001b[0;34m\u001b[0m\u001b[0;34m\u001b[0m\u001b[0m\n\u001b[0;32m----> 2\u001b[0;31m \u001b[0minputData\u001b[0m \u001b[0;34m=\u001b[0m \u001b[0mos\u001b[0m\u001b[0;34m.\u001b[0m\u001b[0mlistdir\u001b[0m\u001b[0;34m(\u001b[0m\u001b[0mfilePath\u001b[0m\u001b[0;34m)\u001b[0m\u001b[0;34m\u001b[0m\u001b[0;34m\u001b[0m\u001b[0m\n\u001b[0m\u001b[1;32m      3\u001b[0m \u001b[0;34m\u001b[0m\u001b[0m\n\u001b[1;32m      4\u001b[0m \u001b[0mimg_shape\u001b[0m     \u001b[0;34m=\u001b[0m \u001b[0;34m(\u001b[0m\u001b[0;36m32\u001b[0m\u001b[0;34m,\u001b[0m \u001b[0;36m32\u001b[0m\u001b[0;34m,\u001b[0m \u001b[0;36m3\u001b[0m\u001b[0;34m)\u001b[0m\u001b[0;34m\u001b[0m\u001b[0;34m\u001b[0m\u001b[0m\n\u001b[1;32m      5\u001b[0m \u001b[0;34m\u001b[0m\u001b[0m\n",
      "\u001b[0;31mFileNotFoundError\u001b[0m: [Errno 2] No such file or directory: 'img_align_celeba/'"
     ]
    }
   ],
   "source": [
    "filePath = \"img_align_celeba/\"\n",
    "inputData = os.listdir(filePath)\n",
    "\n",
    "img_shape     = (32, 32, 3)\n",
    "\n",
    "def DiscDatagen(batchSize,filesList):\n",
    "    while(True):\n",
    "        files = np.random.choice(filesList,batchSize,replace=False)\n",
    "        X_train = []\n",
    "        for file in files:\n",
    "            image = load_img(filePath + \"/\" + file,\n",
    "                             target_size=img_shape[:2])\n",
    "            image = img_to_array(image)/255.0\n",
    "            X_train.append(image)\n",
    "        X_train = np.array(X_train)\n",
    "        yield X_train\n"
   ]
  },
  {
   "cell_type": "code",
   "execution_count": null,
   "metadata": {
    "colab": {},
    "colab_type": "code",
    "id": "UdLkR9KtiaeV"
   },
   "outputs": [],
   "source": [
    "import numpy as np\n",
    "from tqdm import tqdm\n",
    "import matplotlib.pyplot as plt\n",
    "from IPython.display import SVG, display\n",
    "from keras.utils.vis_utils import model_to_dot\n",
    "import os\n",
    "from keras.layers import Input\n",
    "from keras import layers, models\n",
    "from keras.models import Model, Sequential\n",
    "from keras.layers.core import Reshape, Dense, Dropout, Flatten\n",
    "from keras.layers.advanced_activations import LeakyReLU\n",
    "from keras.layers.convolutional import Conv2D, UpSampling2D\n",
    "from keras.datasets import mnist\n",
    "from keras.optimizers import Adam\n",
    "from keras import backend as K\n",
    "from keras import initializers\n",
    "import cv2"
   ]
  },
  {
   "cell_type": "code",
   "execution_count": null,
   "metadata": {
    "colab": {
     "base_uri": "https://localhost:8080/",
     "height": 513
    },
    "colab_type": "code",
    "id": "2BLF9ATKhtB3",
    "outputId": "c39c99d2-e730-4e86-c7d5-40baec222f3a"
   },
   "outputs": [],
   "source": [
    "optimizer_gen = Adam(0.00007, 0.5)\n",
    "optimizer_adv = Adam(0.00007, 0.5)\n",
    "img_shape     = (32, 32, 3)\n",
    "\n",
    "def build_generator(img_shape, noise_shape = (100,)):\n",
    "    '''\n",
    "    noise_shape : the dimension of the input vector for the generator\n",
    "    img_shape   : the dimension of the output\n",
    "    '''\n",
    "    ## latent variable as input\n",
    "    input_noise = layers.Input(shape=noise_shape) \n",
    "    d = layers.Dense(1024, activation=\"relu\")(input_noise) \n",
    "    d = layers.Dense(1024, activation=\"relu\")(input_noise) \n",
    "    d = layers.Dense(128*8*8, activation=\"relu\")(d)\n",
    "    d = layers.Reshape((8,8,128))(d)\n",
    "    \n",
    "    d = layers.Conv2DTranspose(128, kernel_size=(2,2) ,  strides=(2,2) , use_bias=False)(d)\n",
    "    d = layers.Conv2D( 64  , ( 1 , 1 ) , activation='relu' , padding='same', name=\"block_4\")(d) ## 16,16\n",
    "\n",
    "\n",
    "    d = layers.Conv2DTranspose(32, kernel_size=(2,2) ,  strides=(2,2) , use_bias=False)(d)\n",
    "    d = layers.Conv2D( 64  , ( 1 , 1 ) , activation='relu' , padding='same', name=\"block_5\")(d) ## 32,32\n",
    "    \n",
    "    if img_shape[0] == 64:\n",
    "        d = layers.Conv2DTranspose(32, kernel_size=(2,2) ,  strides=(2,2) , use_bias=False)(d)\n",
    "        d = layers.Conv2D( 64  , ( 1 , 1 ) , activation='relu' , padding='same', name=\"block_6\")(d) ## 64,64\n",
    "    \n",
    "    img = layers.Conv2D( 3 , ( 1 , 1 ) , activation='sigmoid' , padding='same', name=\"final_block\")(d) ## 32, 32\n",
    "    model = models.Model(input_noise, img)\n",
    "    model.summary() \n",
    "    return(model)\n",
    "\n",
    "## Set the dimension of latent variables to be 100\n",
    "noise_shape = (100,)\n",
    "\n",
    "generator = build_generator(img_shape, noise_shape = noise_shape)\n",
    "\n",
    "generator.compile(loss='binary_crossentropy', optimizer=optimizer_gen)"
   ]
  },
  {
   "cell_type": "code",
   "execution_count": null,
   "metadata": {
    "colab": {
     "base_uri": "https://localhost:8080/",
     "height": 578
    },
    "colab_type": "code",
    "id": "z57GU84XidEQ",
    "outputId": "aecf5d29-dea2-4889-9af2-abe95347ccfb"
   },
   "outputs": [],
   "source": [
    "def build_discriminator(img_shape,noutput=1):\n",
    "    input_img = layers.Input(shape=img_shape)\n",
    "    \n",
    "    x = layers.Conv2D(32, (3, 3), activation='relu', padding='same', name='block1_conv1')(input_img)\n",
    "    x = layers.Conv2D(32, (3, 3), activation='relu', padding='same', name='block1_conv2')(x)\n",
    "    x = layers.MaxPooling2D((2, 2), strides=(2, 2), name='block1_pool')(x)\n",
    "    \n",
    "    x = layers.Conv2D(64, (3, 3), activation='relu', padding='same', name='block2_conv1')(x)\n",
    "    x = layers.Conv2D(64, (3, 3), activation='relu', padding='same', name='block2_conv2')(x)\n",
    "    x = layers.MaxPooling2D((2, 2), strides=(2, 2), name='block2_pool')(x)\n",
    "    \n",
    "    x = layers.Conv2D(128, (3, 3), activation='relu', padding='same', name='block4_conv1')(x)\n",
    "    x = layers.Conv2D(128, (3, 3), activation='relu', padding='same', name='block4_conv2')(x)\n",
    "    x = layers.MaxPooling2D((2, 2), strides=(1, 1), name='block4_pool')(x)\n",
    "\n",
    "    \n",
    "    x         = layers.Flatten()(x)\n",
    "    x         = layers.Dense(1024,      activation=\"relu\")(x)\n",
    "    out       = layers.Dense(noutput,   activation='sigmoid')(x)\n",
    "    model     = models.Model(input_img, out)\n",
    "    \n",
    "    return model\n",
    "\n",
    "discriminator  = build_discriminator(img_shape)\n",
    "discriminator.compile(loss      = 'binary_crossentropy', \n",
    "                      optimizer = optimizer_adv,\n",
    "                      metrics   = ['accuracy'])\n",
    "\n",
    "discriminator.summary()"
   ]
  },
  {
   "cell_type": "code",
   "execution_count": null,
   "metadata": {
    "colab": {
     "base_uri": "https://localhost:8080/",
     "height": 238
    },
    "colab_type": "code",
    "id": "yktslenxjnsJ",
    "outputId": "b7802a46-0356-4828-9e5c-2f521e11d00f"
   },
   "outputs": [],
   "source": [
    "z = layers.Input(shape=noise_shape)\n",
    "img = generator(z)\n",
    "\n",
    "# For the combined model we will only train the generator\n",
    "discriminator.trainable = False\n",
    "\n",
    "# The valid takes generated images as input and determines validity\n",
    "valid = discriminator(img)\n",
    "\n",
    "# The combined model  (stacked generator and discriminator) takes\n",
    "# noise as input => generates images => determines validity \n",
    "combined = models.Model(z, valid)\n",
    "combined.compile(loss='binary_crossentropy', optimizer=optimizer_gen)\n",
    "combined.summary()"
   ]
  },
  {
   "cell_type": "code",
   "execution_count": null,
   "metadata": {},
   "outputs": [],
   "source": [
    "def plot_generated_images(imgs,noise,path_save=None,titleadd=\"\"):\n",
    "    fig = plt.figure(figsize=(40,10))\n",
    "    for i, img in enumerate(imgs):\n",
    "        ax = fig.add_subplot(1,10,i+1)\n",
    "        ax.imshow(img)\n",
    "    fig.suptitle(\"Generated images \"+titleadd,fontsize=30)\n",
    "    \n",
    "    if path_save is not None:\n",
    "        plt.savefig(path_save,\n",
    "                    bbox_inches='tight',\n",
    "                    pad_inches=0)\n",
    "        plt.close()\n",
    "    else:\n",
    "        plt.show()"
   ]
  },
  {
   "cell_type": "code",
   "execution_count": null,
   "metadata": {},
   "outputs": [],
   "source": [
    "batchSize = 10"
   ]
  },
  {
   "cell_type": "code",
   "execution_count": null,
   "metadata": {},
   "outputs": [],
   "source": [
    "writer = tf.summary.FileWriter(\"log/run1\")"
   ]
  },
  {
   "cell_type": "code",
   "execution_count": null,
   "metadata": {},
   "outputs": [],
   "source": [
    "# Create the TensorBoard callback,\n",
    "# which we will drive manually\n",
    "tensorboard_gen = TensorBoard(\n",
    "  log_dir='log/run2',\n",
    "  histogram_freq=0,\n",
    "  batch_size=batchSize,\n",
    "  write_graph=True,\n",
    "  write_grads=True\n",
    ")\n",
    "tensorboard.set_model(combined)"
   ]
  },
  {
   "cell_type": "code",
   "execution_count": null,
   "metadata": {
    "colab": {
     "base_uri": "https://localhost:8080/",
     "height": 139
    },
    "colab_type": "code",
    "id": "dPnWc_0imeMi",
    "outputId": "6d176a2c-5001-461e-9c83-c50fd43e1ffe"
   },
   "outputs": [],
   "source": [
    "def train(models,inputData,epochs=2000, batchSize=10):\n",
    "    combined, discriminator, generator = models\n",
    "    #nlatent_dim = noise_plot.shape[1]\n",
    "    #half_batch  = int(batchSize / 2)\n",
    "    history = []\n",
    "    datagenObj = DiscDatagen(batchSize,inputData)\n",
    "    for epoch in range(epochs):\n",
    "\n",
    "        # ---------------------\n",
    "        #  Train Discriminator\n",
    "        # ---------------------\n",
    "\n",
    "        # Select a random half batch of images\n",
    "        X_train = next(datagenObj)\n",
    "        idx = np.random.randint(0, X_train.shape[0], batchSize)\n",
    "        imgs = X_train[idx]\n",
    "        noise = np.random.normal(0, 1, size=[batchSize, 100])\n",
    "        #print(noise.shape)\n",
    "\n",
    "        # Generate a half batch of new images\n",
    "        gen_imgs = generator.predict(noise)\n",
    "        \n",
    "        if(epoch%100==0):\n",
    "            plot_generated_images(gen_imgs,noise)\n",
    "\n",
    "        # Train the discriminator q: better to mix them together?\n",
    "        discriminator.trainable = True\n",
    "        d_loss_real = discriminator.train_on_batch(imgs, np.ones((batchSize, 1)))\n",
    "        d_loss_fake = discriminator.train_on_batch(gen_imgs, np.zeros((batchSize, 1)))\n",
    "        d_loss = 0.5 * np.add(d_loss_real, d_loss_fake)\n",
    "        discriminator.trainable = False\n",
    "\n",
    "\n",
    "        # ---------------------\n",
    "        #  Train Generator\n",
    "        # ---------------------\n",
    "\n",
    "        noise = np.random.normal(0, 1, size=[batchSize, 100])\n",
    "\n",
    "        # The generator wants the discriminator to label the generated samples\n",
    "        # as valid (ones)\n",
    "        valid_y = (np.array([1] * batchSize)).reshape(batchSize,1)\n",
    "        yGen = np.ones(batchSize)\n",
    "        # Train the generator\n",
    "        g_loss = combined.train_on_batch(noise, valid_y)\n",
    "\n",
    "        history.append({\"D\":d_loss[0],\"G\":g_loss})\n",
    "        tensorboard.on_epoch_end(epoch, {\"D\":d_loss[0],\"G\":g_loss})\n",
    "        #print(history)\n",
    "    tensorboard.on_train_end(None)    \n",
    "    return history\n",
    "      \n",
    "models = combined, discriminator, generator\n",
    "history = train(models,inputData)"
   ]
  },
  {
   "cell_type": "code",
   "execution_count": null,
   "metadata": {},
   "outputs": [],
   "source": []
  },
  {
   "cell_type": "code",
   "execution_count": null,
   "metadata": {},
   "outputs": [],
   "source": []
  }
 ],
 "metadata": {
  "colab": {
   "name": "GAN_CelebA.ipynb",
   "provenance": [],
   "version": "0.3.2"
  },
  "kernelspec": {
   "display_name": "Python (tf-gpu)",
   "language": "python",
   "name": "tf-gpu"
  },
  "language_info": {
   "codemirror_mode": {
    "name": "ipython",
    "version": 3
   },
   "file_extension": ".py",
   "mimetype": "text/x-python",
   "name": "python",
   "nbconvert_exporter": "python",
   "pygments_lexer": "ipython3",
   "version": "3.6.8"
  }
 },
 "nbformat": 4,
 "nbformat_minor": 1
}
